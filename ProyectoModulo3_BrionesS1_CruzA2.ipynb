{
 "cells": [
  {
   "cell_type": "markdown",
   "metadata": {},
   "source": [
    "**04 de Diciembre de 2019**                                                                                              \n",
    "\n",
    "> # Proyecto #3 # \n",
    "---\n",
    "## Simulación Matemática\n",
    "## Profesor: Cristian Camilo Zapata Zuluaga\n",
    "## Título. Modelo del rendimiento de una cuenta de ahorro\n",
    "## Integrantes: \n",
    "\n",
    "**1. Salvador Octavio Briones Martinez**\n",
    "\n",
    "**2. Aristofanes Cruz Huante**\n"
   ]
  },
  {
   "cell_type": "markdown",
   "metadata": {},
   "source": [
    "# Título\n",
    "\n",
    "## Capitalización por interés simple\n",
    "\n",
    "## *1. Resumen*\n",
    "\n",
    "Se llama ecuación diferencial a toda ecuación que contiene las derivadas de una o más variables dependientes respecto a una o más variables independientes.  \n",
    "  \n",
    "Muchas de las leyes generales de la naturaleza encuentran su expresión más natural en el lenguaje de las ecuaciones diferenciales. También tienen múltiples aplicaciones en Geometría, Ingeniería, Economía y muchos otros campos de las Ciencias Aplicadas.   \n",
    "  \n",
    "Se trata de un costo o comisión que el banco te cobra por el hecho de prestarte un determinado monto de dinero, la cual está representada por un porcentaje. Básicamente, se puede decir que la tasa de interés es el \"precio\" que deberás pagar por solicitar un crédito. \n",
    "  \n",
    "Por lo general, la tasa de interés en los créditos hipotecarios se divide por:  \n",
    "- Tasa fija. Se refiere a que el porcentaje del préstamo se mantendrá igual hasta liquidar tu deuda total\n",
    "- Tasa variable. Supone que la tasa de interés tendrá un ajuste que puede aumentar o disminuir. \n",
    "\n"
   ]
  },
  {
   "cell_type": "markdown",
   "metadata": {},
   "source": [
    "## *2. Objetivos*\n",
    "\n",
    "**2.1 Objetivo general**\n",
    "- Observar el cambio en el valor del dinero en el tiempo debido al interés.\n",
    "\n",
    "**2.2 Objetivos específicos**\n",
    "\n",
    "- Conocer el uso de la capitalización simple.\n",
    "- Generar un modelo para observar este cambio.\n",
    "- Graficar el resultado de los intereses generados.\n"
   ]
  },
  {
   "cell_type": "markdown",
   "metadata": {},
   "source": [
    "## *3. Modelo que representa el problema*\n",
    "\n",
    "Este tipo de interés se calcula <font color=green>única y exclusivamente sobre la cantidad original que se invirtió</font>. Como consecuencia, el interés generado no forma parte del dinero que se invierte, es decir, los <font color=red>intereses no ganan intereses</font>.\n",
    "\n",
    "Suponga que se tiene un capital inicial $C_0$ y se invierte a un plazo de $k$ periodos (pueden ser meses, trimestres, semestres, años...) a una tasa de **interés simple** por periodo $i$. Al final del primer periodo, el capital $C_1$ que se obtiene es:\n",
    "\n",
    "$$C_1=C_0+iC_0=C_0(1+i).$$\n",
    "\n",
    "De la misma manera, como el interés solo se calcula sobre el capital inicial, al final del segundo periodo, el capital $C_2$ que se obtiene es:\n",
    "\n",
    "$$C_2=C_1+iC_0=C_0+iC_0+iC_0=C_0(1+2i).$$\n",
    "\n",
    "Así, al final del $k-$ésimo periodo, el capital $C_k$ que se obtiene es:\n",
    "\n",
    "$$C_k=C_{k-1}+iC_0=C_0+kiC_0=C_0(1+ki).$$\n"
   ]
  },
  {
   "cell_type": "markdown",
   "metadata": {},
   "source": [
    "## *4. Solución del problema*\n",
    "\n",
    "## Enunciado.\n",
    "A partir del interes simple, se procede a su solución."
   ]
  },
  {
   "cell_type": "markdown",
   "metadata": {},
   "source": [
    "Varios bancos te ofrecen un fondo de inversión pero con diferentes cantidades mínimas para abrir éste, y con diferentes tasas de interés simple mensual. ¿Con qué banco me conviene invertir y a qué plazo?\n",
    "\n",
    "$Bancomer$\n",
    "\n",
    "<font color=red>Saldo inicial</font>: $\\$2000$ MXN\n",
    "<font color=red>Tasa</font>: $1.11\\%$ mensual\n",
    "\n",
    "$HSBC$\n",
    "\n",
    "<font color=red>Saldo inicial</font>: $\\$1000$ MXN\n",
    "<font color=red>Tasa</font>: $1\\%$ mensual\n",
    "\n",
    "$Scotia$\n",
    "\n",
    "<font color=red>Saldo inicial</font>: $\\$4000$ MXN\n",
    "<font color=red>Tasa</font>: $1.93\\%$ mensual\n"
   ]
  },
  {
   "cell_type": "code",
   "execution_count": 1,
   "metadata": {
    "collapsed": true
   },
   "outputs": [],
   "source": [
    "import numpy as np"
   ]
  },
  {
   "cell_type": "code",
   "execution_count": 2,
   "metadata": {},
   "outputs": [
    {
     "name": "stdout",
     "output_type": "stream",
     "text": [
      "El numero de periodos que se debe dejar invertido el dinero es 91 Al final del periodo el capital es 20101.0 Con una tasa de interés del 1.11 %\n"
     ]
    }
   ],
   "source": [
    "# Banco 1\n",
    "# Datos del problema\n",
    "C0 = 10000\n",
    "i = 0.0111\n",
    "Cf = 20000\n",
    "ip = i*100\n",
    "\n",
    "# Despejar k tal que C_k=meta\n",
    "k = np.ceil(((Cf/C0)-1)/i)\n",
    "k = k.astype(int)\n",
    "Ck = C0*(1+k*i)\n",
    "Ck = round(Ck,2)\n",
    "\n",
    "\n",
    "# Imprimimos respuesta en pantalla\n",
    "print(\"El numero de periodos que se debe dejar invertido el dinero es\", k, \"Al final del periodo el capital es\", Ck, \"Con una tasa de interés del\", ip,'%')"
   ]
  },
  {
   "cell_type": "code",
   "execution_count": 3,
   "metadata": {},
   "outputs": [
    {
     "name": "stdout",
     "output_type": "stream",
     "text": [
      "El numero de periodos que se debe dejar invertido el dinero es 100 Al final del periodo el capital es 20000.0 Con una tasa de interés del 1.0 %\n"
     ]
    }
   ],
   "source": [
    "# Banco 2\n",
    "# Datos del problema\n",
    "C0 = 10000\n",
    "i = 0.01\n",
    "Cf = 20000\n",
    "ip = i*100\n",
    "\n",
    "# Despejar k tal que C_k=meta\n",
    "k = np.ceil(((Cf/C0)-1)/i)\n",
    "k = k.astype(int)\n",
    "Ck = C0*(1+k*i)\n",
    "Ck = round(Ck,2)\n",
    "\n",
    "\n",
    "# Imprimimos respuesta en pantalla\n",
    "print(\"El numero de periodos que se debe dejar invertido el dinero es\", k, \"Al final del periodo el capital es\", Ck, \"Con una tasa de interés del\", ip,'%')"
   ]
  },
  {
   "cell_type": "code",
   "execution_count": 4,
   "metadata": {},
   "outputs": [
    {
     "name": "stdout",
     "output_type": "stream",
     "text": [
      "El numero de periodos que se debe dejar invertido el dinero es 52 Al final del periodo el capital es 20036.0 Con una tasa de interés del 1.9300000000000002 %\n"
     ]
    }
   ],
   "source": [
    "# Banco 1\n",
    "# Datos del problema\n",
    "C0 = 10000\n",
    "i = 0.0193\n",
    "Cf = 20000\n",
    "ip = i*100\n",
    "\n",
    "# Despejar k tal que C_k=meta\n",
    "k = np.ceil(((Cf/C0)-1)/i)\n",
    "k = k.astype(int)\n",
    "Ck = C0*(1+k*i)\n",
    "Ck = round(Ck,2)\n",
    "\n",
    "\n",
    "# Imprimimos respuesta en pantalla\n",
    "print(\"El numero de periodos que se debe dejar invertido el dinero es\", k, \"Al final del periodo el capital es\", Ck, \"Con una tasa de interés del\", ip,'%')"
   ]
  },
  {
   "cell_type": "code",
   "execution_count": null,
   "metadata": {
    "collapsed": true
   },
   "outputs": [],
   "source": []
  },
  {
   "cell_type": "markdown",
   "metadata": {},
   "source": [
    "## *5. Visualización de la solución del problema*\n",
    "**Esta grafica muestra el número de periodos que se debe dejar invertido el dinero para llegar a la meta puesta con un capital inicial de $\\$10000$:**"
   ]
  },
  {
   "cell_type": "code",
   "execution_count": 5,
   "metadata": {},
   "outputs": [
    {
     "data": {
      "application/vnd.jupyter.widget-view+json": {
       "model_id": "b6a81278561b4ec588102ae6e3c2d3e4",
       "version_major": 2,
       "version_minor": 0
      },
      "text/plain": [
       "A Jupyter Widget"
      ]
     },
     "metadata": {},
     "output_type": "display_data"
    }
   ],
   "source": [
    "# Librerías para gráficos\n",
    "import matplotlib.pyplot as plt\n",
    "# Para que se muestren las gráficas en la misma ventana\n",
    "%matplotlib inline\n",
    "# Librería para widgets de jupyter\n",
    "from ipywidgets import *\n",
    "\n",
    "def interes_simple(C_0, meta, i):\n",
    "    # Despejamos k\n",
    "    k = np.ceil((meta/C_0 - 1)/i)           # Notar el uso de la función ceil\n",
    "    k = k.astype(int)                       # Conversión a entero\n",
    "    C_k = C_0*(1+k*i)                       # Cálculo del capital al final del periodo k\n",
    "    C_k = round(C_k, 2)                     # Redondeo con dos cifras decimales\n",
    "    # Vector de periodos\n",
    "    kk = np.linspace(0,k,k+1)               \n",
    "    # Vector de capitales por periodo\n",
    "    CC = C_0*(1+kk*i)\n",
    "    # Gráfico\n",
    "    plt.figure(num=1); plt.clf()            # Figura 1, borrar lo que contenga\n",
    "    plt.plot(kk, CC,'*',ms=10)              # Se grafica la evolución de los capitales\n",
    "    plt.plot(kk,meta*np.ones(k+1),'--k')    # Se grafica la meta\n",
    "    plt.xlabel('$k$',fontsize=18)           # Etiqueta eje x\n",
    "    plt.ylabel('$C_k$',fontsize=18)         # Etiqueta eje y\n",
    "    plt.grid(True)                          # Malla en la gráfica\n",
    "    plt.show()                              # Mostrar la figura\n",
    "    print(\"El número de periodos que se debe dejar invertido el dinero para llegar a la meta de \", meta,\" es \", k,\n",
    "          \". Al final del periodo \", k,\", el capital es \", C_k, \".\", sep=\"\")\n",
    "    \n",
    "interact_manual(interes_simple, C_0=fixed(10000), meta=(10000,15000,100), i=fixed(0.008));\n"
   ]
  },
  {
   "cell_type": "markdown",
   "metadata": {},
   "source": [
    "## *6. Conclusiones*\n",
    "\n",
    "Las inversiones dependen mucho de la tasa de interés que ofrece cada banco y con su monto mínimo de apertura. Pueden tanto beneficiar a largo plazo, como dañar la economía de la persona que está haciendo un ahorro.\n"
   ]
  },
  {
   "cell_type": "markdown",
   "metadata": {},
   "source": [
    "## *7. Referencias*\n",
    "\n",
    "Vidaurri Aguirre, Héctor Manuel. Ingeniería económica básica, ISBN: 978-607-519-017-4. (Disponible en biblioteca)\n",
    "\n",
    "Finerio. (2019). Finerio Blog. Diciembre 3, 2019, de Finerio Sitio web: https://blog.finerio.mx/blog/las-10-mejores-cuentas-de-ahorro-en-2018\n",
    "  \n",
    "\"Generalidades sobre Ecuaciones Diferenciales Ordinarias\", Dma.uvigo.es, 2019. [Online]. Available: http://www.dma.uvigo.es/~aurea/TR_C2_EDO.pdf. [Accessed: 04- Dec- 2019].  \n",
    "  \n",
    "\"Generalidades sobre Ecuaciones Diferenciales Ordinarias\", Dma.uvigo.es, 2019. [Online]. Available: http://www.dma.uvigo.es/~aurea/TR_C2_EDO.pdf. [Accessed: 04- Dec- 2019].\n",
    "\n"
   ]
  },
  {
   "cell_type": "code",
   "execution_count": null,
   "metadata": {
    "collapsed": true
   },
   "outputs": [],
   "source": []
  }
 ],
 "metadata": {
  "kernelspec": {
   "display_name": "Python 3",
   "language": "python",
   "name": "python3"
  },
  "language_info": {
   "codemirror_mode": {
    "name": "ipython",
    "version": 3
   },
   "file_extension": ".py",
   "mimetype": "text/x-python",
   "name": "python",
   "nbconvert_exporter": "python",
   "pygments_lexer": "ipython3",
   "version": "3.6.2"
  }
 },
 "nbformat": 4,
 "nbformat_minor": 2
}
